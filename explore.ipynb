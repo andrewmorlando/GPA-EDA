{
 "cells": [
  {
   "cell_type": "code",
   "execution_count": 1,
   "metadata": {},
   "outputs": [],
   "source": [
    "import matplotlib.pyplot as plt\n",
    "import seaborn as sns"
   ]
  },
  {
   "cell_type": "code",
   "execution_count": 2,
   "metadata": {},
   "outputs": [],
   "source": [
    "import pandas as pd\n",
    "stud_perf_df = pd.read_csv('data/Student_performance_data.csv')"
   ]
  },
  {
   "cell_type": "code",
   "execution_count": 3,
   "metadata": {},
   "outputs": [
    {
     "data": {
      "text/html": [
       "<div>\n",
       "<style scoped>\n",
       "    .dataframe tbody tr th:only-of-type {\n",
       "        vertical-align: middle;\n",
       "    }\n",
       "\n",
       "    .dataframe tbody tr th {\n",
       "        vertical-align: top;\n",
       "    }\n",
       "\n",
       "    .dataframe thead th {\n",
       "        text-align: right;\n",
       "    }\n",
       "</style>\n",
       "<table border=\"1\" class=\"dataframe\">\n",
       "  <thead>\n",
       "    <tr style=\"text-align: right;\">\n",
       "      <th></th>\n",
       "      <th>StudentID</th>\n",
       "      <th>Age</th>\n",
       "      <th>Gender</th>\n",
       "      <th>Ethnicity</th>\n",
       "      <th>ParentalEducation</th>\n",
       "      <th>StudyTimeWeekly</th>\n",
       "      <th>Absences</th>\n",
       "      <th>Tutoring</th>\n",
       "      <th>ParentalSupport</th>\n",
       "      <th>Extracurricular</th>\n",
       "      <th>Sports</th>\n",
       "      <th>Music</th>\n",
       "      <th>Volunteering</th>\n",
       "      <th>GPA</th>\n",
       "      <th>GradeClass</th>\n",
       "    </tr>\n",
       "  </thead>\n",
       "  <tbody>\n",
       "    <tr>\n",
       "      <th>1354</th>\n",
       "      <td>2355</td>\n",
       "      <td>16</td>\n",
       "      <td>1</td>\n",
       "      <td>1</td>\n",
       "      <td>2</td>\n",
       "      <td>18.191109</td>\n",
       "      <td>25</td>\n",
       "      <td>0</td>\n",
       "      <td>1</td>\n",
       "      <td>0</td>\n",
       "      <td>0</td>\n",
       "      <td>1</td>\n",
       "      <td>0</td>\n",
       "      <td>0.690348</td>\n",
       "      <td>4.0</td>\n",
       "    </tr>\n",
       "    <tr>\n",
       "      <th>16</th>\n",
       "      <td>1017</td>\n",
       "      <td>18</td>\n",
       "      <td>0</td>\n",
       "      <td>3</td>\n",
       "      <td>1</td>\n",
       "      <td>10.098656</td>\n",
       "      <td>14</td>\n",
       "      <td>0</td>\n",
       "      <td>2</td>\n",
       "      <td>1</td>\n",
       "      <td>1</td>\n",
       "      <td>0</td>\n",
       "      <td>0</td>\n",
       "      <td>2.232175</td>\n",
       "      <td>3.0</td>\n",
       "    </tr>\n",
       "    <tr>\n",
       "      <th>831</th>\n",
       "      <td>1832</td>\n",
       "      <td>15</td>\n",
       "      <td>0</td>\n",
       "      <td>0</td>\n",
       "      <td>3</td>\n",
       "      <td>5.147309</td>\n",
       "      <td>18</td>\n",
       "      <td>0</td>\n",
       "      <td>3</td>\n",
       "      <td>1</td>\n",
       "      <td>0</td>\n",
       "      <td>1</td>\n",
       "      <td>0</td>\n",
       "      <td>1.583556</td>\n",
       "      <td>4.0</td>\n",
       "    </tr>\n",
       "    <tr>\n",
       "      <th>1627</th>\n",
       "      <td>2628</td>\n",
       "      <td>15</td>\n",
       "      <td>1</td>\n",
       "      <td>0</td>\n",
       "      <td>1</td>\n",
       "      <td>19.840319</td>\n",
       "      <td>10</td>\n",
       "      <td>1</td>\n",
       "      <td>3</td>\n",
       "      <td>0</td>\n",
       "      <td>1</td>\n",
       "      <td>1</td>\n",
       "      <td>1</td>\n",
       "      <td>3.103994</td>\n",
       "      <td>1.0</td>\n",
       "    </tr>\n",
       "    <tr>\n",
       "      <th>1147</th>\n",
       "      <td>2148</td>\n",
       "      <td>16</td>\n",
       "      <td>0</td>\n",
       "      <td>0</td>\n",
       "      <td>1</td>\n",
       "      <td>8.824593</td>\n",
       "      <td>17</td>\n",
       "      <td>0</td>\n",
       "      <td>3</td>\n",
       "      <td>0</td>\n",
       "      <td>0</td>\n",
       "      <td>0</td>\n",
       "      <td>0</td>\n",
       "      <td>1.247693</td>\n",
       "      <td>4.0</td>\n",
       "    </tr>\n",
       "    <tr>\n",
       "      <th>2387</th>\n",
       "      <td>3388</td>\n",
       "      <td>18</td>\n",
       "      <td>1</td>\n",
       "      <td>0</td>\n",
       "      <td>3</td>\n",
       "      <td>10.680555</td>\n",
       "      <td>2</td>\n",
       "      <td>0</td>\n",
       "      <td>4</td>\n",
       "      <td>1</td>\n",
       "      <td>0</td>\n",
       "      <td>0</td>\n",
       "      <td>0</td>\n",
       "      <td>3.455509</td>\n",
       "      <td>0.0</td>\n",
       "    </tr>\n",
       "    <tr>\n",
       "      <th>1654</th>\n",
       "      <td>2655</td>\n",
       "      <td>16</td>\n",
       "      <td>1</td>\n",
       "      <td>0</td>\n",
       "      <td>1</td>\n",
       "      <td>6.860880</td>\n",
       "      <td>25</td>\n",
       "      <td>0</td>\n",
       "      <td>2</td>\n",
       "      <td>0</td>\n",
       "      <td>1</td>\n",
       "      <td>0</td>\n",
       "      <td>0</td>\n",
       "      <td>0.701264</td>\n",
       "      <td>4.0</td>\n",
       "    </tr>\n",
       "    <tr>\n",
       "      <th>40</th>\n",
       "      <td>1041</td>\n",
       "      <td>17</td>\n",
       "      <td>1</td>\n",
       "      <td>3</td>\n",
       "      <td>2</td>\n",
       "      <td>11.314946</td>\n",
       "      <td>23</td>\n",
       "      <td>1</td>\n",
       "      <td>1</td>\n",
       "      <td>0</td>\n",
       "      <td>0</td>\n",
       "      <td>0</td>\n",
       "      <td>0</td>\n",
       "      <td>1.058287</td>\n",
       "      <td>4.0</td>\n",
       "    </tr>\n",
       "    <tr>\n",
       "      <th>1358</th>\n",
       "      <td>2359</td>\n",
       "      <td>18</td>\n",
       "      <td>0</td>\n",
       "      <td>2</td>\n",
       "      <td>1</td>\n",
       "      <td>10.826708</td>\n",
       "      <td>0</td>\n",
       "      <td>0</td>\n",
       "      <td>3</td>\n",
       "      <td>0</td>\n",
       "      <td>1</td>\n",
       "      <td>1</td>\n",
       "      <td>0</td>\n",
       "      <td>3.729652</td>\n",
       "      <td>0.0</td>\n",
       "    </tr>\n",
       "    <tr>\n",
       "      <th>1324</th>\n",
       "      <td>2325</td>\n",
       "      <td>15</td>\n",
       "      <td>1</td>\n",
       "      <td>0</td>\n",
       "      <td>1</td>\n",
       "      <td>8.489857</td>\n",
       "      <td>25</td>\n",
       "      <td>1</td>\n",
       "      <td>4</td>\n",
       "      <td>1</td>\n",
       "      <td>0</td>\n",
       "      <td>0</td>\n",
       "      <td>0</td>\n",
       "      <td>1.283228</td>\n",
       "      <td>4.0</td>\n",
       "    </tr>\n",
       "  </tbody>\n",
       "</table>\n",
       "</div>"
      ],
      "text/plain": [
       "      StudentID  Age  Gender  Ethnicity  ParentalEducation  StudyTimeWeekly  \\\n",
       "1354       2355   16       1          1                  2        18.191109   \n",
       "16         1017   18       0          3                  1        10.098656   \n",
       "831        1832   15       0          0                  3         5.147309   \n",
       "1627       2628   15       1          0                  1        19.840319   \n",
       "1147       2148   16       0          0                  1         8.824593   \n",
       "2387       3388   18       1          0                  3        10.680555   \n",
       "1654       2655   16       1          0                  1         6.860880   \n",
       "40         1041   17       1          3                  2        11.314946   \n",
       "1358       2359   18       0          2                  1        10.826708   \n",
       "1324       2325   15       1          0                  1         8.489857   \n",
       "\n",
       "      Absences  Tutoring  ParentalSupport  Extracurricular  Sports  Music  \\\n",
       "1354        25         0                1                0       0      1   \n",
       "16          14         0                2                1       1      0   \n",
       "831         18         0                3                1       0      1   \n",
       "1627        10         1                3                0       1      1   \n",
       "1147        17         0                3                0       0      0   \n",
       "2387         2         0                4                1       0      0   \n",
       "1654        25         0                2                0       1      0   \n",
       "40          23         1                1                0       0      0   \n",
       "1358         0         0                3                0       1      1   \n",
       "1324        25         1                4                1       0      0   \n",
       "\n",
       "      Volunteering       GPA  GradeClass  \n",
       "1354             0  0.690348         4.0  \n",
       "16               0  2.232175         3.0  \n",
       "831              0  1.583556         4.0  \n",
       "1627             1  3.103994         1.0  \n",
       "1147             0  1.247693         4.0  \n",
       "2387             0  3.455509         0.0  \n",
       "1654             0  0.701264         4.0  \n",
       "40               0  1.058287         4.0  \n",
       "1358             0  3.729652         0.0  \n",
       "1324             0  1.283228         4.0  "
      ]
     },
     "execution_count": 3,
     "metadata": {},
     "output_type": "execute_result"
    }
   ],
   "source": [
    "stud_perf_df.sample(10)\n"
   ]
  },
  {
   "cell_type": "code",
   "execution_count": 4,
   "metadata": {},
   "outputs": [
    {
     "data": {
      "text/plain": [
       "0.19077372781932933"
      ]
     },
     "execution_count": 4,
     "metadata": {},
     "output_type": "execute_result"
    }
   ],
   "source": [
    "#I want to see the correlation between parental support and GPA.\n",
    "stud_perf_df['ParentalSupport'].corr(stud_perf_df['GPA'])"
   ]
  },
  {
   "cell_type": "code",
   "execution_count": 5,
   "metadata": {},
   "outputs": [
    {
     "data": {
      "text/plain": [
       "0.09407831930111067"
      ]
     },
     "execution_count": 5,
     "metadata": {},
     "output_type": "execute_result"
    }
   ],
   "source": [
    "#looks like over its a small correlation, what about extracurricular and GPA\n",
    "stud_perf_df['Extracurricular'].corr(stud_perf_df['GPA'])"
   ]
  },
  {
   "cell_type": "code",
   "execution_count": 6,
   "metadata": {},
   "outputs": [
    {
     "data": {
      "text/html": [
       "<div>\n",
       "<style scoped>\n",
       "    .dataframe tbody tr th:only-of-type {\n",
       "        vertical-align: middle;\n",
       "    }\n",
       "\n",
       "    .dataframe tbody tr th {\n",
       "        vertical-align: top;\n",
       "    }\n",
       "\n",
       "    .dataframe thead th {\n",
       "        text-align: right;\n",
       "    }\n",
       "</style>\n",
       "<table border=\"1\" class=\"dataframe\">\n",
       "  <thead>\n",
       "    <tr style=\"text-align: right;\">\n",
       "      <th></th>\n",
       "      <th>StudentID</th>\n",
       "      <th>Age</th>\n",
       "      <th>Gender</th>\n",
       "      <th>Ethnicity</th>\n",
       "      <th>ParentalEducation</th>\n",
       "      <th>StudyTimeWeekly</th>\n",
       "      <th>Absences</th>\n",
       "      <th>Tutoring</th>\n",
       "      <th>ParentalSupport</th>\n",
       "      <th>Extracurricular</th>\n",
       "      <th>Sports</th>\n",
       "      <th>Music</th>\n",
       "      <th>Volunteering</th>\n",
       "      <th>GPA</th>\n",
       "      <th>GradeClass</th>\n",
       "    </tr>\n",
       "  </thead>\n",
       "  <tbody>\n",
       "    <tr>\n",
       "      <th>StudentID</th>\n",
       "      <td>1.000000</td>\n",
       "      <td>-0.042255</td>\n",
       "      <td>-0.014625</td>\n",
       "      <td>-0.012990</td>\n",
       "      <td>-0.002307</td>\n",
       "      <td>0.026976</td>\n",
       "      <td>0.014841</td>\n",
       "      <td>-0.007834</td>\n",
       "      <td>0.003016</td>\n",
       "      <td>-0.003611</td>\n",
       "      <td>-0.020703</td>\n",
       "      <td>-0.005468</td>\n",
       "      <td>0.008011</td>\n",
       "      <td>-0.002697</td>\n",
       "      <td>-0.098500</td>\n",
       "    </tr>\n",
       "    <tr>\n",
       "      <th>Age</th>\n",
       "      <td>-0.042255</td>\n",
       "      <td>1.000000</td>\n",
       "      <td>0.044895</td>\n",
       "      <td>-0.028473</td>\n",
       "      <td>0.025099</td>\n",
       "      <td>-0.006800</td>\n",
       "      <td>-0.011511</td>\n",
       "      <td>-0.012076</td>\n",
       "      <td>0.033197</td>\n",
       "      <td>-0.025061</td>\n",
       "      <td>-0.046320</td>\n",
       "      <td>-0.003492</td>\n",
       "      <td>0.013074</td>\n",
       "      <td>0.000275</td>\n",
       "      <td>-0.006250</td>\n",
       "    </tr>\n",
       "    <tr>\n",
       "      <th>Gender</th>\n",
       "      <td>-0.014625</td>\n",
       "      <td>0.044895</td>\n",
       "      <td>1.000000</td>\n",
       "      <td>0.016010</td>\n",
       "      <td>0.006771</td>\n",
       "      <td>0.011469</td>\n",
       "      <td>0.021479</td>\n",
       "      <td>-0.031597</td>\n",
       "      <td>0.008065</td>\n",
       "      <td>-0.005964</td>\n",
       "      <td>-0.008897</td>\n",
       "      <td>0.007109</td>\n",
       "      <td>-0.000200</td>\n",
       "      <td>-0.013360</td>\n",
       "      <td>0.022998</td>\n",
       "    </tr>\n",
       "    <tr>\n",
       "      <th>Ethnicity</th>\n",
       "      <td>-0.012990</td>\n",
       "      <td>-0.028473</td>\n",
       "      <td>0.016010</td>\n",
       "      <td>1.000000</td>\n",
       "      <td>0.033595</td>\n",
       "      <td>0.007184</td>\n",
       "      <td>-0.025712</td>\n",
       "      <td>-0.017440</td>\n",
       "      <td>0.020922</td>\n",
       "      <td>-0.008927</td>\n",
       "      <td>-0.004484</td>\n",
       "      <td>-0.014627</td>\n",
       "      <td>0.013468</td>\n",
       "      <td>0.027760</td>\n",
       "      <td>-0.023326</td>\n",
       "    </tr>\n",
       "    <tr>\n",
       "      <th>ParentalEducation</th>\n",
       "      <td>-0.002307</td>\n",
       "      <td>0.025099</td>\n",
       "      <td>0.006771</td>\n",
       "      <td>0.033595</td>\n",
       "      <td>1.000000</td>\n",
       "      <td>-0.011051</td>\n",
       "      <td>0.036518</td>\n",
       "      <td>-0.017340</td>\n",
       "      <td>-0.017463</td>\n",
       "      <td>0.007479</td>\n",
       "      <td>0.002029</td>\n",
       "      <td>0.039439</td>\n",
       "      <td>0.011960</td>\n",
       "      <td>-0.035854</td>\n",
       "      <td>0.041031</td>\n",
       "    </tr>\n",
       "    <tr>\n",
       "      <th>StudyTimeWeekly</th>\n",
       "      <td>0.026976</td>\n",
       "      <td>-0.006800</td>\n",
       "      <td>0.011469</td>\n",
       "      <td>0.007184</td>\n",
       "      <td>-0.011051</td>\n",
       "      <td>1.000000</td>\n",
       "      <td>0.009326</td>\n",
       "      <td>0.028930</td>\n",
       "      <td>0.035800</td>\n",
       "      <td>-0.022860</td>\n",
       "      <td>0.006836</td>\n",
       "      <td>0.007791</td>\n",
       "      <td>-0.016604</td>\n",
       "      <td>0.179275</td>\n",
       "      <td>-0.134131</td>\n",
       "    </tr>\n",
       "    <tr>\n",
       "      <th>Absences</th>\n",
       "      <td>0.014841</td>\n",
       "      <td>-0.011511</td>\n",
       "      <td>0.021479</td>\n",
       "      <td>-0.025712</td>\n",
       "      <td>0.036518</td>\n",
       "      <td>0.009326</td>\n",
       "      <td>1.000000</td>\n",
       "      <td>-0.015534</td>\n",
       "      <td>0.002108</td>\n",
       "      <td>0.000360</td>\n",
       "      <td>0.041454</td>\n",
       "      <td>-0.008692</td>\n",
       "      <td>-0.018528</td>\n",
       "      <td>-0.919314</td>\n",
       "      <td>0.728633</td>\n",
       "    </tr>\n",
       "    <tr>\n",
       "      <th>Tutoring</th>\n",
       "      <td>-0.007834</td>\n",
       "      <td>-0.012076</td>\n",
       "      <td>-0.031597</td>\n",
       "      <td>-0.017440</td>\n",
       "      <td>-0.017340</td>\n",
       "      <td>0.028930</td>\n",
       "      <td>-0.015534</td>\n",
       "      <td>1.000000</td>\n",
       "      <td>-0.000824</td>\n",
       "      <td>0.004865</td>\n",
       "      <td>0.006278</td>\n",
       "      <td>-0.011385</td>\n",
       "      <td>-0.050898</td>\n",
       "      <td>0.145119</td>\n",
       "      <td>-0.111695</td>\n",
       "    </tr>\n",
       "    <tr>\n",
       "      <th>ParentalSupport</th>\n",
       "      <td>0.003016</td>\n",
       "      <td>0.033197</td>\n",
       "      <td>0.008065</td>\n",
       "      <td>0.020922</td>\n",
       "      <td>-0.017463</td>\n",
       "      <td>0.035800</td>\n",
       "      <td>0.002108</td>\n",
       "      <td>-0.000824</td>\n",
       "      <td>1.000000</td>\n",
       "      <td>-0.008381</td>\n",
       "      <td>-0.006176</td>\n",
       "      <td>0.035122</td>\n",
       "      <td>-0.006036</td>\n",
       "      <td>0.190774</td>\n",
       "      <td>-0.136823</td>\n",
       "    </tr>\n",
       "    <tr>\n",
       "      <th>Extracurricular</th>\n",
       "      <td>-0.003611</td>\n",
       "      <td>-0.025061</td>\n",
       "      <td>-0.005964</td>\n",
       "      <td>-0.008927</td>\n",
       "      <td>0.007479</td>\n",
       "      <td>-0.022860</td>\n",
       "      <td>0.000360</td>\n",
       "      <td>0.004865</td>\n",
       "      <td>-0.008381</td>\n",
       "      <td>1.000000</td>\n",
       "      <td>-0.011820</td>\n",
       "      <td>-0.014191</td>\n",
       "      <td>-0.007427</td>\n",
       "      <td>0.094078</td>\n",
       "      <td>-0.069733</td>\n",
       "    </tr>\n",
       "    <tr>\n",
       "      <th>Sports</th>\n",
       "      <td>-0.020703</td>\n",
       "      <td>-0.046320</td>\n",
       "      <td>-0.008897</td>\n",
       "      <td>-0.004484</td>\n",
       "      <td>0.002029</td>\n",
       "      <td>0.006836</td>\n",
       "      <td>0.041454</td>\n",
       "      <td>0.006278</td>\n",
       "      <td>-0.006176</td>\n",
       "      <td>-0.011820</td>\n",
       "      <td>1.000000</td>\n",
       "      <td>-0.020474</td>\n",
       "      <td>-0.002799</td>\n",
       "      <td>0.057859</td>\n",
       "      <td>-0.026654</td>\n",
       "    </tr>\n",
       "    <tr>\n",
       "      <th>Music</th>\n",
       "      <td>-0.005468</td>\n",
       "      <td>-0.003492</td>\n",
       "      <td>0.007109</td>\n",
       "      <td>-0.014627</td>\n",
       "      <td>0.039439</td>\n",
       "      <td>0.007791</td>\n",
       "      <td>-0.008692</td>\n",
       "      <td>-0.011385</td>\n",
       "      <td>0.035122</td>\n",
       "      <td>-0.014191</td>\n",
       "      <td>-0.020474</td>\n",
       "      <td>1.000000</td>\n",
       "      <td>0.017224</td>\n",
       "      <td>0.073318</td>\n",
       "      <td>-0.036065</td>\n",
       "    </tr>\n",
       "    <tr>\n",
       "      <th>Volunteering</th>\n",
       "      <td>0.008011</td>\n",
       "      <td>0.013074</td>\n",
       "      <td>-0.000200</td>\n",
       "      <td>0.013468</td>\n",
       "      <td>0.011960</td>\n",
       "      <td>-0.016604</td>\n",
       "      <td>-0.018528</td>\n",
       "      <td>-0.050898</td>\n",
       "      <td>-0.006036</td>\n",
       "      <td>-0.007427</td>\n",
       "      <td>-0.002799</td>\n",
       "      <td>0.017224</td>\n",
       "      <td>1.000000</td>\n",
       "      <td>0.003258</td>\n",
       "      <td>0.013156</td>\n",
       "    </tr>\n",
       "    <tr>\n",
       "      <th>GPA</th>\n",
       "      <td>-0.002697</td>\n",
       "      <td>0.000275</td>\n",
       "      <td>-0.013360</td>\n",
       "      <td>0.027760</td>\n",
       "      <td>-0.035854</td>\n",
       "      <td>0.179275</td>\n",
       "      <td>-0.919314</td>\n",
       "      <td>0.145119</td>\n",
       "      <td>0.190774</td>\n",
       "      <td>0.094078</td>\n",
       "      <td>0.057859</td>\n",
       "      <td>0.073318</td>\n",
       "      <td>0.003258</td>\n",
       "      <td>1.000000</td>\n",
       "      <td>-0.782835</td>\n",
       "    </tr>\n",
       "    <tr>\n",
       "      <th>GradeClass</th>\n",
       "      <td>-0.098500</td>\n",
       "      <td>-0.006250</td>\n",
       "      <td>0.022998</td>\n",
       "      <td>-0.023326</td>\n",
       "      <td>0.041031</td>\n",
       "      <td>-0.134131</td>\n",
       "      <td>0.728633</td>\n",
       "      <td>-0.111695</td>\n",
       "      <td>-0.136823</td>\n",
       "      <td>-0.069733</td>\n",
       "      <td>-0.026654</td>\n",
       "      <td>-0.036065</td>\n",
       "      <td>0.013156</td>\n",
       "      <td>-0.782835</td>\n",
       "      <td>1.000000</td>\n",
       "    </tr>\n",
       "  </tbody>\n",
       "</table>\n",
       "</div>"
      ],
      "text/plain": [
       "                   StudentID       Age    Gender  Ethnicity  \\\n",
       "StudentID           1.000000 -0.042255 -0.014625  -0.012990   \n",
       "Age                -0.042255  1.000000  0.044895  -0.028473   \n",
       "Gender             -0.014625  0.044895  1.000000   0.016010   \n",
       "Ethnicity          -0.012990 -0.028473  0.016010   1.000000   \n",
       "ParentalEducation  -0.002307  0.025099  0.006771   0.033595   \n",
       "StudyTimeWeekly     0.026976 -0.006800  0.011469   0.007184   \n",
       "Absences            0.014841 -0.011511  0.021479  -0.025712   \n",
       "Tutoring           -0.007834 -0.012076 -0.031597  -0.017440   \n",
       "ParentalSupport     0.003016  0.033197  0.008065   0.020922   \n",
       "Extracurricular    -0.003611 -0.025061 -0.005964  -0.008927   \n",
       "Sports             -0.020703 -0.046320 -0.008897  -0.004484   \n",
       "Music              -0.005468 -0.003492  0.007109  -0.014627   \n",
       "Volunteering        0.008011  0.013074 -0.000200   0.013468   \n",
       "GPA                -0.002697  0.000275 -0.013360   0.027760   \n",
       "GradeClass         -0.098500 -0.006250  0.022998  -0.023326   \n",
       "\n",
       "                   ParentalEducation  StudyTimeWeekly  Absences  Tutoring  \\\n",
       "StudentID                  -0.002307         0.026976  0.014841 -0.007834   \n",
       "Age                         0.025099        -0.006800 -0.011511 -0.012076   \n",
       "Gender                      0.006771         0.011469  0.021479 -0.031597   \n",
       "Ethnicity                   0.033595         0.007184 -0.025712 -0.017440   \n",
       "ParentalEducation           1.000000        -0.011051  0.036518 -0.017340   \n",
       "StudyTimeWeekly            -0.011051         1.000000  0.009326  0.028930   \n",
       "Absences                    0.036518         0.009326  1.000000 -0.015534   \n",
       "Tutoring                   -0.017340         0.028930 -0.015534  1.000000   \n",
       "ParentalSupport            -0.017463         0.035800  0.002108 -0.000824   \n",
       "Extracurricular             0.007479        -0.022860  0.000360  0.004865   \n",
       "Sports                      0.002029         0.006836  0.041454  0.006278   \n",
       "Music                       0.039439         0.007791 -0.008692 -0.011385   \n",
       "Volunteering                0.011960        -0.016604 -0.018528 -0.050898   \n",
       "GPA                        -0.035854         0.179275 -0.919314  0.145119   \n",
       "GradeClass                  0.041031        -0.134131  0.728633 -0.111695   \n",
       "\n",
       "                   ParentalSupport  Extracurricular    Sports     Music  \\\n",
       "StudentID                 0.003016        -0.003611 -0.020703 -0.005468   \n",
       "Age                       0.033197        -0.025061 -0.046320 -0.003492   \n",
       "Gender                    0.008065        -0.005964 -0.008897  0.007109   \n",
       "Ethnicity                 0.020922        -0.008927 -0.004484 -0.014627   \n",
       "ParentalEducation        -0.017463         0.007479  0.002029  0.039439   \n",
       "StudyTimeWeekly           0.035800        -0.022860  0.006836  0.007791   \n",
       "Absences                  0.002108         0.000360  0.041454 -0.008692   \n",
       "Tutoring                 -0.000824         0.004865  0.006278 -0.011385   \n",
       "ParentalSupport           1.000000        -0.008381 -0.006176  0.035122   \n",
       "Extracurricular          -0.008381         1.000000 -0.011820 -0.014191   \n",
       "Sports                   -0.006176        -0.011820  1.000000 -0.020474   \n",
       "Music                     0.035122        -0.014191 -0.020474  1.000000   \n",
       "Volunteering             -0.006036        -0.007427 -0.002799  0.017224   \n",
       "GPA                       0.190774         0.094078  0.057859  0.073318   \n",
       "GradeClass               -0.136823        -0.069733 -0.026654 -0.036065   \n",
       "\n",
       "                   Volunteering       GPA  GradeClass  \n",
       "StudentID              0.008011 -0.002697   -0.098500  \n",
       "Age                    0.013074  0.000275   -0.006250  \n",
       "Gender                -0.000200 -0.013360    0.022998  \n",
       "Ethnicity              0.013468  0.027760   -0.023326  \n",
       "ParentalEducation      0.011960 -0.035854    0.041031  \n",
       "StudyTimeWeekly       -0.016604  0.179275   -0.134131  \n",
       "Absences              -0.018528 -0.919314    0.728633  \n",
       "Tutoring              -0.050898  0.145119   -0.111695  \n",
       "ParentalSupport       -0.006036  0.190774   -0.136823  \n",
       "Extracurricular       -0.007427  0.094078   -0.069733  \n",
       "Sports                -0.002799  0.057859   -0.026654  \n",
       "Music                  0.017224  0.073318   -0.036065  \n",
       "Volunteering           1.000000  0.003258    0.013156  \n",
       "GPA                    0.003258  1.000000   -0.782835  \n",
       "GradeClass             0.013156 -0.782835    1.000000  "
      ]
     },
     "execution_count": 6,
     "metadata": {},
     "output_type": "execute_result"
    }
   ],
   "source": [
    "#Unexpected that extracurricular did not have a correlation with GPA. I want to\n",
    "#see everything then and see what has a correlation.\n",
    "stud_perf_df.corr()"
   ]
  },
  {
   "cell_type": "code",
   "execution_count": 7,
   "metadata": {},
   "outputs": [
    {
     "name": "stdout",
     "output_type": "stream",
     "text": [
      "0.7069397993311036\n",
      "1.6905053605105345\n",
      "1.9955963207593146\n"
     ]
    }
   ],
   "source": [
    "#What if they have moderate or more support from parents\n",
    "par_sup_df = stud_perf_df[stud_perf_df['ParentalSupport'] >= 2]\n",
    "#what percentage of students have atleast moderate support from parents\n",
    "print(par_sup_df.shape[0]/stud_perf_df.shape[0])\n",
    "#What do the numbers for the students who have less than moderate support look like.\n",
    "not_sup_df = stud_perf_df[stud_perf_df['ParentalSupport']<2]\n",
    "print(not_sup_df['GPA'].mean())\n",
    "print(par_sup_df['GPA'].mean())\n",
    "#.3 of a difference in GPA"
   ]
  },
  {
   "cell_type": "code",
   "execution_count": 8,
   "metadata": {},
   "outputs": [
    {
     "name": "stderr",
     "output_type": "stream",
     "text": [
      "/opt/anaconda3/lib/python3.11/site-packages/seaborn/_oldcore.py:1119: FutureWarning: use_inf_as_na option is deprecated and will be removed in a future version. Convert inf values to NaN before operating instead.\n",
      "  with pd.option_context('mode.use_inf_as_na', True):\n"
     ]
    },
    {
     "data": {
      "text/plain": [
       "Text(0.5, 1.0, 'Less than moderate support GPA')"
      ]
     },
     "execution_count": 8,
     "metadata": {},
     "output_type": "execute_result"
    },
    {
     "data": {
      "image/png": "[encoded data removed]",
      "text/plain": [
       "<Figure size 640x480 with 1 Axes>"
      ]
     },
     "metadata": {},
     "output_type": "display_data"
    }
   ],
   "source": [
    "sns.histplot(not_sup_df['GPA'], bins=15).set_title('Less than moderate support GPA')"
   ]
  },
  {
   "cell_type": "code",
   "execution_count": 9,
   "metadata": {},
   "outputs": [
    {
     "name": "stderr",
     "output_type": "stream",
     "text": [
      "/opt/anaconda3/lib/python3.11/site-packages/seaborn/_oldcore.py:1119: FutureWarning: use_inf_as_na option is deprecated and will be removed in a future version. Convert inf values to NaN before operating instead.\n",
      "  with pd.option_context('mode.use_inf_as_na', True):\n"
     ]
    },
    {
     "data": {
      "text/plain": [
       "Text(0.5, 1.0, 'Moderate or more support from parents')"
      ]
     },
     "execution_count": 9,
     "metadata": {},
     "output_type": "execute_result"
    },
    {
     "data": {
      "image/png": "[encoded data removed]",
      "text/plain": [
       "<Figure size 640x480 with 1 Axes>"
      ]
     },
     "metadata": {},
     "output_type": "display_data"
    }
   ],
   "source": [
    "sns.histplot(par_sup_df['GPA'], bins=20).set_title('Moderate or more support from parents')"
   ]
  },
  {
   "cell_type": "code",
   "execution_count": 10,
   "metadata": {},
   "outputs": [
    {
     "data": {
      "text/plain": [
       "ParentalSupport\n",
       "2    740\n",
       "3    697\n",
       "1    489\n",
       "4    254\n",
       "0    212\n",
       "Name: count, dtype: int64"
      ]
     },
     "execution_count": 10,
     "metadata": {},
     "output_type": "execute_result"
    }
   ],
   "source": [
    "#To get more of an even number in each dataframe it looks like 2 would\n",
    "#be a better seperater.\n",
    "stud_perf_df['ParentalSupport'].value_counts()"
   ]
  },
  {
   "cell_type": "code",
   "execution_count": 46,
   "metadata": {},
   "outputs": [],
   "source": [
    "ps2anddown_df = stud_perf_df[stud_perf_df['ParentalSupport']<=2]\n",
    "ps3andup_df = stud_perf_df[stud_perf_df['ParentalSupport']>=3]"
   ]
  },
  {
   "cell_type": "code",
   "execution_count": 47,
   "metadata": {},
   "outputs": [
    {
     "name": "stdout",
     "output_type": "stream",
     "text": [
      "1.789997389177819\n",
      "2.082241217998579\n"
     ]
    }
   ],
   "source": [
    "print(ps2anddown_df['GPA'].mean())\n",
    "print(ps3andup_df['GPA'].mean())"
   ]
  },
  {
   "cell_type": "code",
   "execution_count": 13,
   "metadata": {},
   "outputs": [
    {
     "name": "stderr",
     "output_type": "stream",
     "text": [
      "/opt/anaconda3/lib/python3.11/site-packages/seaborn/_oldcore.py:1119: FutureWarning: use_inf_as_na option is deprecated and will be removed in a future version. Convert inf values to NaN before operating instead.\n",
      "  with pd.option_context('mode.use_inf_as_na', True):\n"
     ]
    },
    {
     "data": {
      "text/plain": [
       "<Axes: xlabel='GPA', ylabel='Count'>"
      ]
     },
     "execution_count": 13,
     "metadata": {},
     "output_type": "execute_result"
    },
    {
     "data": {
      "image/png": "[encoded data removed]",
      "text/plain": [
       "<Figure size 640x480 with 1 Axes>"
      ]
     },
     "metadata": {},
     "output_type": "display_data"
    }
   ],
   "source": [
    "sns.histplot(ps2andup_df['GPA'])"
   ]
  },
  {
   "cell_type": "code",
   "execution_count": 14,
   "metadata": {},
   "outputs": [
    {
     "name": "stderr",
     "output_type": "stream",
     "text": [
      "/opt/anaconda3/lib/python3.11/site-packages/seaborn/_oldcore.py:1119: FutureWarning: use_inf_as_na option is deprecated and will be removed in a future version. Convert inf values to NaN before operating instead.\n",
      "  with pd.option_context('mode.use_inf_as_na', True):\n"
     ]
    },
    {
     "data": {
      "text/plain": [
       "<Axes: xlabel='GPA', ylabel='Count'>"
      ]
     },
     "execution_count": 14,
     "metadata": {},
     "output_type": "execute_result"
    },
    {
     "data": {
      "image/png": "[encoded data removed]",
      "text/plain": [
       "<Figure size 640x480 with 1 Axes>"
      ]
     },
     "metadata": {},
     "output_type": "display_data"
    }
   ],
   "source": [
    "sns.histplot(ps3anddown_df['GPA'])"
   ]
  },
  {
   "cell_type": "code",
   "execution_count": 15,
   "metadata": {},
   "outputs": [],
   "source": [
    "#Looks like high and very high support from parents can make a difference in GPA.\n",
    "#Looking at the upper GPAs what are some commonalities they have\n",
    "over3gpa_df = stud_perf_df[stud_perf_df['GPA'] >= 3]"
   ]
  },
  {
   "cell_type": "markdown",
   "metadata": {},
   "source": [
    "Does parental education have much of an effect on the 3.0 and above students?"
   ]
  },
  {
   "cell_type": "code",
   "execution_count": 16,
   "metadata": {},
   "outputs": [],
   "source": [
    "parediscollege_df = over3gpa_df[over3gpa_df['ParentalEducation']>=3]"
   ]
  },
  {
   "cell_type": "code",
   "execution_count": 17,
   "metadata": {},
   "outputs": [],
   "source": [
    "paredlessthancollege_df = over3gpa_df[over3gpa_df['ParentalEducation']<=2]"
   ]
  },
  {
   "cell_type": "code",
   "execution_count": 18,
   "metadata": {},
   "outputs": [
    {
     "name": "stdout",
     "output_type": "stream",
     "text": [
      "3.2853957433955836\n",
      "3.3467017039736926\n"
     ]
    }
   ],
   "source": [
    "print(parediscollege_df['GPA'].mean())\n",
    "print(paredlessthancollege_df['GPA'].mean())"
   ]
  },
  {
   "cell_type": "markdown",
   "metadata": {},
   "source": [
    "There is a high correlation between absences and GPA, but is there other factors in the data set that can cause the absences?"
   ]
  },
  {
   "cell_type": "code",
   "execution_count": 19,
   "metadata": {},
   "outputs": [
    {
     "name": "stdout",
     "output_type": "stream",
     "text": [
      "14.54138795986622\n"
     ]
    },
    {
     "name": "stderr",
     "output_type": "stream",
     "text": [
      "/opt/anaconda3/lib/python3.11/site-packages/seaborn/_oldcore.py:1119: FutureWarning: use_inf_as_na option is deprecated and will be removed in a future version. Convert inf values to NaN before operating instead.\n",
      "  with pd.option_context('mode.use_inf_as_na', True):\n"
     ]
    },
    {
     "data": {
      "text/plain": [
       "<Axes: xlabel='Absences', ylabel='Count'>"
      ]
     },
     "execution_count": 19,
     "metadata": {},
     "output_type": "execute_result"
    },
    {
     "data": {
      "image/png": "[encoded data removed]",
      "text/plain": [
       "<Figure size 640x480 with 1 Axes>"
      ]
     },
     "metadata": {},
     "output_type": "display_data"
    }
   ],
   "source": [
    "print(stud_perf_df['Absences'].mean())\n",
    "sns.histplot(stud_perf_df['Absences'])"
   ]
  },
  {
   "cell_type": "code",
   "execution_count": 20,
   "metadata": {},
   "outputs": [
    {
     "data": {
      "image/png": "[encoded data removed]",
      "text/plain": [
       "<Figure size 640x480 with 1 Axes>"
      ]
     },
     "metadata": {},
     "output_type": "display_data"
    }
   ],
   "source": [
    "stud_perf_df['Absences'].plot(kind='box',yticks=range(0,30), ylabel='Days')\n",
    "plt.tight_layout()"
   ]
  },
  {
   "cell_type": "code",
   "execution_count": 21,
   "metadata": {},
   "outputs": [
    {
     "data": {
      "text/plain": [
       "23.0088053397836"
      ]
     },
     "execution_count": 21,
     "metadata": {},
     "output_type": "execute_result"
    }
   ],
   "source": [
    "stud_perf_df['Absences'].std() + stud_perf_df['Absences'].mean()"
   ]
  },
  {
   "cell_type": "code",
   "execution_count": 22,
   "metadata": {},
   "outputs": [],
   "source": [
    "#Now that I know that the upper std of the mean is 23, I can say that anyone\n",
    "#who missed more than 23 days is missing more than most others.\n",
    "over23abs_df = stud_perf_df[stud_perf_df['Absences']>=23]\n",
    "#This is to see if there is a common factor between students who had many absences."
   ]
  },
  {
   "cell_type": "code",
   "execution_count": 23,
   "metadata": {},
   "outputs": [
    {
     "data": {
      "text/html": [
       "<div>\n",
       "<style scoped>\n",
       "    .dataframe tbody tr th:only-of-type {\n",
       "        vertical-align: middle;\n",
       "    }\n",
       "\n",
       "    .dataframe tbody tr th {\n",
       "        vertical-align: top;\n",
       "    }\n",
       "\n",
       "    .dataframe thead th {\n",
       "        text-align: right;\n",
       "    }\n",
       "</style>\n",
       "<table border=\"1\" class=\"dataframe\">\n",
       "  <thead>\n",
       "    <tr style=\"text-align: right;\">\n",
       "      <th></th>\n",
       "      <th>StudentID</th>\n",
       "      <th>Age</th>\n",
       "      <th>Gender</th>\n",
       "      <th>Ethnicity</th>\n",
       "      <th>ParentalEducation</th>\n",
       "      <th>StudyTimeWeekly</th>\n",
       "      <th>Absences</th>\n",
       "      <th>Tutoring</th>\n",
       "      <th>ParentalSupport</th>\n",
       "      <th>Extracurricular</th>\n",
       "      <th>Sports</th>\n",
       "      <th>Music</th>\n",
       "      <th>Volunteering</th>\n",
       "      <th>GPA</th>\n",
       "      <th>GradeClass</th>\n",
       "    </tr>\n",
       "  </thead>\n",
       "  <tbody>\n",
       "    <tr>\n",
       "      <th>StudentID</th>\n",
       "      <td>1.000000</td>\n",
       "      <td>-0.026490</td>\n",
       "      <td>-0.042244</td>\n",
       "      <td>-0.058384</td>\n",
       "      <td>-0.066249</td>\n",
       "      <td>0.077112</td>\n",
       "      <td>0.030159</td>\n",
       "      <td>0.035789</td>\n",
       "      <td>0.066618</td>\n",
       "      <td>0.010975</td>\n",
       "      <td>-0.044730</td>\n",
       "      <td>0.007827</td>\n",
       "      <td>-0.050834</td>\n",
       "      <td>0.067281</td>\n",
       "      <td>-0.342656</td>\n",
       "    </tr>\n",
       "    <tr>\n",
       "      <th>Age</th>\n",
       "      <td>-0.026490</td>\n",
       "      <td>1.000000</td>\n",
       "      <td>-0.008151</td>\n",
       "      <td>-0.082301</td>\n",
       "      <td>0.005382</td>\n",
       "      <td>-0.034590</td>\n",
       "      <td>-0.148880</td>\n",
       "      <td>0.024598</td>\n",
       "      <td>0.033138</td>\n",
       "      <td>-0.089240</td>\n",
       "      <td>-0.065031</td>\n",
       "      <td>-0.001737</td>\n",
       "      <td>-0.001712</td>\n",
       "      <td>0.033385</td>\n",
       "      <td>-0.063313</td>\n",
       "    </tr>\n",
       "    <tr>\n",
       "      <th>Gender</th>\n",
       "      <td>-0.042244</td>\n",
       "      <td>-0.008151</td>\n",
       "      <td>1.000000</td>\n",
       "      <td>0.007442</td>\n",
       "      <td>-0.041723</td>\n",
       "      <td>-0.012478</td>\n",
       "      <td>-0.007917</td>\n",
       "      <td>-0.056050</td>\n",
       "      <td>-0.026055</td>\n",
       "      <td>-0.033148</td>\n",
       "      <td>0.044583</td>\n",
       "      <td>0.031030</td>\n",
       "      <td>-0.044066</td>\n",
       "      <td>-0.010767</td>\n",
       "      <td>0.054537</td>\n",
       "    </tr>\n",
       "    <tr>\n",
       "      <th>Ethnicity</th>\n",
       "      <td>-0.058384</td>\n",
       "      <td>-0.082301</td>\n",
       "      <td>0.007442</td>\n",
       "      <td>1.000000</td>\n",
       "      <td>0.019832</td>\n",
       "      <td>-0.013873</td>\n",
       "      <td>-0.055690</td>\n",
       "      <td>0.027200</td>\n",
       "      <td>-0.071202</td>\n",
       "      <td>-0.014198</td>\n",
       "      <td>-0.037346</td>\n",
       "      <td>-0.003764</td>\n",
       "      <td>0.016266</td>\n",
       "      <td>-0.012893</td>\n",
       "      <td>0.021467</td>\n",
       "    </tr>\n",
       "    <tr>\n",
       "      <th>ParentalEducation</th>\n",
       "      <td>-0.066249</td>\n",
       "      <td>0.005382</td>\n",
       "      <td>-0.041723</td>\n",
       "      <td>0.019832</td>\n",
       "      <td>1.000000</td>\n",
       "      <td>-0.043613</td>\n",
       "      <td>0.002519</td>\n",
       "      <td>0.013728</td>\n",
       "      <td>-0.062579</td>\n",
       "      <td>-0.032224</td>\n",
       "      <td>-0.080315</td>\n",
       "      <td>0.073576</td>\n",
       "      <td>0.058104</td>\n",
       "      <td>-0.022126</td>\n",
       "      <td>0.061463</td>\n",
       "    </tr>\n",
       "    <tr>\n",
       "      <th>StudyTimeWeekly</th>\n",
       "      <td>0.077112</td>\n",
       "      <td>-0.034590</td>\n",
       "      <td>-0.012478</td>\n",
       "      <td>-0.013873</td>\n",
       "      <td>-0.043613</td>\n",
       "      <td>1.000000</td>\n",
       "      <td>0.015043</td>\n",
       "      <td>0.062366</td>\n",
       "      <td>0.074603</td>\n",
       "      <td>-0.039045</td>\n",
       "      <td>0.019547</td>\n",
       "      <td>0.063141</td>\n",
       "      <td>0.052744</td>\n",
       "      <td>0.471234</td>\n",
       "      <td>-0.020060</td>\n",
       "    </tr>\n",
       "    <tr>\n",
       "      <th>Absences</th>\n",
       "      <td>0.030159</td>\n",
       "      <td>-0.148880</td>\n",
       "      <td>-0.007917</td>\n",
       "      <td>-0.055690</td>\n",
       "      <td>0.002519</td>\n",
       "      <td>0.015043</td>\n",
       "      <td>1.000000</td>\n",
       "      <td>0.016440</td>\n",
       "      <td>0.136400</td>\n",
       "      <td>-0.020451</td>\n",
       "      <td>0.008585</td>\n",
       "      <td>-0.016354</td>\n",
       "      <td>-0.039454</td>\n",
       "      <td>-0.388827</td>\n",
       "      <td>-0.033182</td>\n",
       "    </tr>\n",
       "    <tr>\n",
       "      <th>Tutoring</th>\n",
       "      <td>0.035789</td>\n",
       "      <td>0.024598</td>\n",
       "      <td>-0.056050</td>\n",
       "      <td>0.027200</td>\n",
       "      <td>0.013728</td>\n",
       "      <td>0.062366</td>\n",
       "      <td>0.016440</td>\n",
       "      <td>1.000000</td>\n",
       "      <td>-0.019494</td>\n",
       "      <td>0.024094</td>\n",
       "      <td>-0.035309</td>\n",
       "      <td>-0.037601</td>\n",
       "      <td>-0.056112</td>\n",
       "      <td>0.292935</td>\n",
       "      <td>0.034774</td>\n",
       "    </tr>\n",
       "    <tr>\n",
       "      <th>ParentalSupport</th>\n",
       "      <td>0.066618</td>\n",
       "      <td>0.033138</td>\n",
       "      <td>-0.026055</td>\n",
       "      <td>-0.071202</td>\n",
       "      <td>-0.062579</td>\n",
       "      <td>0.074603</td>\n",
       "      <td>0.136400</td>\n",
       "      <td>-0.019494</td>\n",
       "      <td>1.000000</td>\n",
       "      <td>0.050055</td>\n",
       "      <td>0.025862</td>\n",
       "      <td>0.048804</td>\n",
       "      <td>0.037315</td>\n",
       "      <td>0.407134</td>\n",
       "      <td>-0.026774</td>\n",
       "    </tr>\n",
       "    <tr>\n",
       "      <th>Extracurricular</th>\n",
       "      <td>0.010975</td>\n",
       "      <td>-0.089240</td>\n",
       "      <td>-0.033148</td>\n",
       "      <td>-0.014198</td>\n",
       "      <td>-0.032224</td>\n",
       "      <td>-0.039045</td>\n",
       "      <td>-0.020451</td>\n",
       "      <td>0.024094</td>\n",
       "      <td>0.050055</td>\n",
       "      <td>1.000000</td>\n",
       "      <td>0.018669</td>\n",
       "      <td>-0.000189</td>\n",
       "      <td>0.024954</td>\n",
       "      <td>0.255781</td>\n",
       "      <td>-0.019076</td>\n",
       "    </tr>\n",
       "    <tr>\n",
       "      <th>Sports</th>\n",
       "      <td>-0.044730</td>\n",
       "      <td>-0.065031</td>\n",
       "      <td>0.044583</td>\n",
       "      <td>-0.037346</td>\n",
       "      <td>-0.080315</td>\n",
       "      <td>0.019547</td>\n",
       "      <td>0.008585</td>\n",
       "      <td>-0.035309</td>\n",
       "      <td>0.025862</td>\n",
       "      <td>0.018669</td>\n",
       "      <td>1.000000</td>\n",
       "      <td>0.012939</td>\n",
       "      <td>0.005297</td>\n",
       "      <td>0.253033</td>\n",
       "      <td>0.024487</td>\n",
       "    </tr>\n",
       "    <tr>\n",
       "      <th>Music</th>\n",
       "      <td>0.007827</td>\n",
       "      <td>-0.001737</td>\n",
       "      <td>0.031030</td>\n",
       "      <td>-0.003764</td>\n",
       "      <td>0.073576</td>\n",
       "      <td>0.063141</td>\n",
       "      <td>-0.016354</td>\n",
       "      <td>-0.037601</td>\n",
       "      <td>0.048804</td>\n",
       "      <td>-0.000189</td>\n",
       "      <td>0.012939</td>\n",
       "      <td>1.000000</td>\n",
       "      <td>0.051387</td>\n",
       "      <td>0.158593</td>\n",
       "      <td>0.058039</td>\n",
       "    </tr>\n",
       "    <tr>\n",
       "      <th>Volunteering</th>\n",
       "      <td>-0.050834</td>\n",
       "      <td>-0.001712</td>\n",
       "      <td>-0.044066</td>\n",
       "      <td>0.016266</td>\n",
       "      <td>0.058104</td>\n",
       "      <td>0.052744</td>\n",
       "      <td>-0.039454</td>\n",
       "      <td>-0.056112</td>\n",
       "      <td>0.037315</td>\n",
       "      <td>0.024954</td>\n",
       "      <td>0.005297</td>\n",
       "      <td>0.051387</td>\n",
       "      <td>1.000000</td>\n",
       "      <td>0.050366</td>\n",
       "      <td>0.007109</td>\n",
       "    </tr>\n",
       "    <tr>\n",
       "      <th>GPA</th>\n",
       "      <td>0.067281</td>\n",
       "      <td>0.033385</td>\n",
       "      <td>-0.010767</td>\n",
       "      <td>-0.012893</td>\n",
       "      <td>-0.022126</td>\n",
       "      <td>0.471234</td>\n",
       "      <td>-0.388827</td>\n",
       "      <td>0.292935</td>\n",
       "      <td>0.407134</td>\n",
       "      <td>0.255781</td>\n",
       "      <td>0.253033</td>\n",
       "      <td>0.158593</td>\n",
       "      <td>0.050366</td>\n",
       "      <td>1.000000</td>\n",
       "      <td>0.000526</td>\n",
       "    </tr>\n",
       "    <tr>\n",
       "      <th>GradeClass</th>\n",
       "      <td>-0.342656</td>\n",
       "      <td>-0.063313</td>\n",
       "      <td>0.054537</td>\n",
       "      <td>0.021467</td>\n",
       "      <td>0.061463</td>\n",
       "      <td>-0.020060</td>\n",
       "      <td>-0.033182</td>\n",
       "      <td>0.034774</td>\n",
       "      <td>-0.026774</td>\n",
       "      <td>-0.019076</td>\n",
       "      <td>0.024487</td>\n",
       "      <td>0.058039</td>\n",
       "      <td>0.007109</td>\n",
       "      <td>0.000526</td>\n",
       "      <td>1.000000</td>\n",
       "    </tr>\n",
       "  </tbody>\n",
       "</table>\n",
       "</div>"
      ],
      "text/plain": [
       "                   StudentID       Age    Gender  Ethnicity  \\\n",
       "StudentID           1.000000 -0.026490 -0.042244  -0.058384   \n",
       "Age                -0.026490  1.000000 -0.008151  -0.082301   \n",
       "Gender             -0.042244 -0.008151  1.000000   0.007442   \n",
       "Ethnicity          -0.058384 -0.082301  0.007442   1.000000   \n",
       "ParentalEducation  -0.066249  0.005382 -0.041723   0.019832   \n",
       "StudyTimeWeekly     0.077112 -0.034590 -0.012478  -0.013873   \n",
       "Absences            0.030159 -0.148880 -0.007917  -0.055690   \n",
       "Tutoring            0.035789  0.024598 -0.056050   0.027200   \n",
       "ParentalSupport     0.066618  0.033138 -0.026055  -0.071202   \n",
       "Extracurricular     0.010975 -0.089240 -0.033148  -0.014198   \n",
       "Sports             -0.044730 -0.065031  0.044583  -0.037346   \n",
       "Music               0.007827 -0.001737  0.031030  -0.003764   \n",
       "Volunteering       -0.050834 -0.001712 -0.044066   0.016266   \n",
       "GPA                 0.067281  0.033385 -0.010767  -0.012893   \n",
       "GradeClass         -0.342656 -0.063313  0.054537   0.021467   \n",
       "\n",
       "                   ParentalEducation  StudyTimeWeekly  Absences  Tutoring  \\\n",
       "StudentID                  -0.066249         0.077112  0.030159  0.035789   \n",
       "Age                         0.005382        -0.034590 -0.148880  0.024598   \n",
       "Gender                     -0.041723        -0.012478 -0.007917 -0.056050   \n",
       "Ethnicity                   0.019832        -0.013873 -0.055690  0.027200   \n",
       "ParentalEducation           1.000000        -0.043613  0.002519  0.013728   \n",
       "StudyTimeWeekly            -0.043613         1.000000  0.015043  0.062366   \n",
       "Absences                    0.002519         0.015043  1.000000  0.016440   \n",
       "Tutoring                    0.013728         0.062366  0.016440  1.000000   \n",
       "ParentalSupport            -0.062579         0.074603  0.136400 -0.019494   \n",
       "Extracurricular            -0.032224        -0.039045 -0.020451  0.024094   \n",
       "Sports                     -0.080315         0.019547  0.008585 -0.035309   \n",
       "Music                       0.073576         0.063141 -0.016354 -0.037601   \n",
       "Volunteering                0.058104         0.052744 -0.039454 -0.056112   \n",
       "GPA                        -0.022126         0.471234 -0.388827  0.292935   \n",
       "GradeClass                  0.061463        -0.020060 -0.033182  0.034774   \n",
       "\n",
       "                   ParentalSupport  Extracurricular    Sports     Music  \\\n",
       "StudentID                 0.066618         0.010975 -0.044730  0.007827   \n",
       "Age                       0.033138        -0.089240 -0.065031 -0.001737   \n",
       "Gender                   -0.026055        -0.033148  0.044583  0.031030   \n",
       "Ethnicity                -0.071202        -0.014198 -0.037346 -0.003764   \n",
       "ParentalEducation        -0.062579        -0.032224 -0.080315  0.073576   \n",
       "StudyTimeWeekly           0.074603        -0.039045  0.019547  0.063141   \n",
       "Absences                  0.136400        -0.020451  0.008585 -0.016354   \n",
       "Tutoring                 -0.019494         0.024094 -0.035309 -0.037601   \n",
       "ParentalSupport           1.000000         0.050055  0.025862  0.048804   \n",
       "Extracurricular           0.050055         1.000000  0.018669 -0.000189   \n",
       "Sports                    0.025862         0.018669  1.000000  0.012939   \n",
       "Music                     0.048804        -0.000189  0.012939  1.000000   \n",
       "Volunteering              0.037315         0.024954  0.005297  0.051387   \n",
       "GPA                       0.407134         0.255781  0.253033  0.158593   \n",
       "GradeClass               -0.026774        -0.019076  0.024487  0.058039   \n",
       "\n",
       "                   Volunteering       GPA  GradeClass  \n",
       "StudentID             -0.050834  0.067281   -0.342656  \n",
       "Age                   -0.001712  0.033385   -0.063313  \n",
       "Gender                -0.044066 -0.010767    0.054537  \n",
       "Ethnicity              0.016266 -0.012893    0.021467  \n",
       "ParentalEducation      0.058104 -0.022126    0.061463  \n",
       "StudyTimeWeekly        0.052744  0.471234   -0.020060  \n",
       "Absences              -0.039454 -0.388827   -0.033182  \n",
       "Tutoring              -0.056112  0.292935    0.034774  \n",
       "ParentalSupport        0.037315  0.407134   -0.026774  \n",
       "Extracurricular        0.024954  0.255781   -0.019076  \n",
       "Sports                 0.005297  0.253033    0.024487  \n",
       "Music                  0.051387  0.158593    0.058039  \n",
       "Volunteering           1.000000  0.050366    0.007109  \n",
       "GPA                    0.050366  1.000000    0.000526  \n",
       "GradeClass             0.007109  0.000526    1.000000  "
      ]
     },
     "execution_count": 23,
     "metadata": {},
     "output_type": "execute_result"
    }
   ],
   "source": [
    "over23abs_df.corr()\n",
    "#look at the gpa correlations and maybe make a heatmap and discuss."
   ]
  },
  {
   "cell_type": "code",
   "execution_count": 24,
   "metadata": {},
   "outputs": [
    {
     "data": {
      "text/plain": [
       "ParentalSupport\n",
       "2    166\n",
       "3    155\n",
       "1    114\n",
       "0     56\n",
       "4     56\n",
       "Name: count, dtype: int64"
      ]
     },
     "execution_count": 24,
     "metadata": {},
     "output_type": "execute_result"
    }
   ],
   "source": [
    "over23abs_df['ParentalSupport'].value_counts()"
   ]
  },
  {
   "cell_type": "code",
   "execution_count": 25,
   "metadata": {},
   "outputs": [],
   "source": [
    "under23abs_df = stud_perf_df[stud_perf_df['Absences']<23]"
   ]
  },
  {
   "cell_type": "code",
   "execution_count": 26,
   "metadata": {},
   "outputs": [
    {
     "data": {
      "text/plain": [
       "ParentalSupport\n",
       "0    0.735849\n",
       "1    0.766871\n",
       "2    0.775676\n",
       "3    0.777618\n",
       "4    0.779528\n",
       "Name: count, dtype: float64"
      ]
     },
     "execution_count": 26,
     "metadata": {},
     "output_type": "execute_result"
    }
   ],
   "source": [
    "under23abs_df['ParentalSupport'].value_counts().sort_index()/stud_perf_df['ParentalSupport'].value_counts().sort_index()"
   ]
  },
  {
   "cell_type": "code",
   "execution_count": 27,
   "metadata": {},
   "outputs": [
    {
     "name": "stdout",
     "output_type": "stream",
     "text": [
      "ParentalSupport\n",
      "0    0.264151\n",
      "1    0.233129\n",
      "2    0.224324\n",
      "3    0.222382\n",
      "4    0.220472\n",
      "Name: count, dtype: float64\n",
      "0.22867892976588627\n"
     ]
    }
   ],
   "source": [
    "print(over23abs_df['ParentalSupport'].value_counts().sort_index()/stud_perf_df['ParentalSupport'].value_counts().sort_index())\n",
    "print(over23abs_df['StudentID'].count()/stud_perf_df['StudentID'].count())"
   ]
  },
  {
   "cell_type": "code",
   "execution_count": 28,
   "metadata": {},
   "outputs": [
    {
     "data": {
      "text/plain": [
       "ParentalSupport\n",
       "3    120\n",
       "2     99\n",
       "4     53\n",
       "1     40\n",
       "0      9\n",
       "Name: count, dtype: int64"
      ]
     },
     "execution_count": 28,
     "metadata": {},
     "output_type": "execute_result"
    }
   ],
   "source": [
    "over3gpa_df['ParentalSupport'].value_counts()"
   ]
  },
  {
   "cell_type": "code",
   "execution_count": 29,
   "metadata": {},
   "outputs": [
    {
     "name": "stdout",
     "output_type": "stream",
     "text": [
      "ParentalSupport\n",
      "2    0.372973\n",
      "3    0.390244\n",
      "1    0.415133\n",
      "4    0.358268\n",
      "0    0.353774\n",
      "Name: count, dtype: float64\n",
      "ParentalSupport\n",
      "2    0.627027\n",
      "3    0.609756\n",
      "1    0.584867\n",
      "4    0.641732\n",
      "0    0.646226\n",
      "Name: count, dtype: float64\n"
     ]
    }
   ],
   "source": [
    "#What about the students in extracurricular? Do they perform better or have commonalities?\n",
    "stud_extra = stud_perf_df[stud_perf_df['Extracurricular'] == 1]\n",
    "stud_noextra = stud_perf_df[stud_perf_df['Extracurricular'] == 0]\n",
    "print(stud_extra['ParentalSupport'].value_counts()/stud_perf_df['ParentalSupport'].value_counts())\n",
    "print(stud_noextra['ParentalSupport'].value_counts()/stud_perf_df['ParentalSupport'].value_counts())"
   ]
  },
  {
   "cell_type": "code",
   "execution_count": 30,
   "metadata": {},
   "outputs": [
    {
     "data": {
      "text/plain": [
       "<Axes: xlabel='ParentalSupport'>"
      ]
     },
     "execution_count": 30,
     "metadata": {},
     "output_type": "execute_result"
    },
    {
     "data": {
      "image/png": "[encoded data removed]",
      "text/plain": [
       "<Figure size 640x480 with 1 Axes>"
      ]
     },
     "metadata": {},
     "output_type": "display_data"
    }
   ],
   "source": [
    "stud_extra['ParentalSupport'].value_counts().sort_index().plot(kind='bar',rot=0,alpha=.7)\n",
    "stud_noextra['ParentalSupport'].value_counts().sort_index().plot(kind='bar',rot=0,alpha=.5)\n",
    "stud_perf_df['ParentalSupport'].value_counts().sort_index().plot(kind='bar',rot=0,alpha=.3)\n",
    "#This is just to show that parental support seems to have little\n",
    "#impact on the students involvement in extracurricular activies."
   ]
  },
  {
   "cell_type": "code",
   "execution_count": 31,
   "metadata": {},
   "outputs": [
    {
     "name": "stdout",
     "output_type": "stream",
     "text": [
      "Percent of students with over 3 gpa parnetal support \n",
      " ParentalSupport\n",
      "0    0.042453\n",
      "1    0.081800\n",
      "2    0.133784\n",
      "3    0.172166\n",
      "4    0.208661\n",
      "Name: count, dtype: float64\n",
      "ParentalSupport\n",
      "0    0.264151\n",
      "1    0.233129\n",
      "2    0.224324\n",
      "3    0.222382\n",
      "4    0.220472\n",
      "Name: count, dtype: float64\n"
     ]
    }
   ],
   "source": [
    "print(\"Percent of students with over 3 gpa parnetal support \\n\",over3gpa_df['ParentalSupport'].value_counts()/stud_perf_df['ParentalSupport'].value_counts())\n",
    "print(over23abs_df['ParentalSupport'].value_counts()/stud_perf_df['ParentalSupport'].value_counts())"
   ]
  },
  {
   "cell_type": "code",
   "execution_count": 48,
   "metadata": {},
   "outputs": [
    {
     "data": {
      "text/plain": [
       "<Axes: >"
      ]
     },
     "execution_count": 48,
     "metadata": {},
     "output_type": "execute_result"
    },
    {
     "data": {
      "image/png": "[encoded data removed]",
      "text/plain": [
       "<Figure size 640x480 with 1 Axes>"
      ]
     },
     "metadata": {},
     "output_type": "display_data"
    },
    {
     "data": {
      "image/png": "[encoded data removed]",
      "text/plain": [
       "<Figure size 640x480 with 1 Axes>"
      ]
     },
     "metadata": {},
     "output_type": "display_data"
    }
   ],
   "source": [
    "stud_perf_df[['ParentalEducation', 'ParentalSupport','GPA']].plot(kind='box')\n",
    "stud_perf_df[['StudyTimeWeekly', 'Absences', 'Tutoring']].plot(kind='box')\n",
    "#Ethnicity\tParentalEducation\tStudyTimeWeekly\tAbsences\tTutoring\tParentalSupport\tExtracurricular\tSports\tMusic\tVolunteering\tGPA\tGradeClass"
   ]
  },
  {
   "cell_type": "code",
   "execution_count": 36,
   "metadata": {},
   "outputs": [
    {
     "data": {
      "text/plain": [
       "0.14511891996780377"
      ]
     },
     "execution_count": 36,
     "metadata": {},
     "output_type": "execute_result"
    }
   ],
   "source": [
    "stud_perf_df['Tutoring'].mean()+stud_perf_df['Tutoring'].std()\n",
    "stud_perf_df['Tutoring'].corr(stud_perf_df['GPA'])"
   ]
  },
  {
   "cell_type": "code",
   "execution_count": 45,
   "metadata": {},
   "outputs": [
    {
     "data": {
      "text/html": [
       "<div>\n",
       "<style scoped>\n",
       "    .dataframe tbody tr th:only-of-type {\n",
       "        vertical-align: middle;\n",
       "    }\n",
       "\n",
       "    .dataframe tbody tr th {\n",
       "        vertical-align: top;\n",
       "    }\n",
       "\n",
       "    .dataframe thead th {\n",
       "        text-align: right;\n",
       "    }\n",
       "</style>\n",
       "<table border=\"1\" class=\"dataframe\">\n",
       "  <thead>\n",
       "    <tr style=\"text-align: right;\">\n",
       "      <th></th>\n",
       "      <th>GPA</th>\n",
       "      <th>Tutoring</th>\n",
       "      <th>ParentalSupport</th>\n",
       "    </tr>\n",
       "  </thead>\n",
       "  <tbody>\n",
       "    <tr>\n",
       "      <th>mean</th>\n",
       "      <td>2.108325</td>\n",
       "      <td>1.0</td>\n",
       "      <td>2.120666</td>\n",
       "    </tr>\n",
       "    <tr>\n",
       "      <th>std</th>\n",
       "      <td>0.905202</td>\n",
       "      <td>0.0</td>\n",
       "      <td>1.117103</td>\n",
       "    </tr>\n",
       "    <tr>\n",
       "      <th>max</th>\n",
       "      <td>4.000000</td>\n",
       "      <td>1.0</td>\n",
       "      <td>4.000000</td>\n",
       "    </tr>\n",
       "  </tbody>\n",
       "</table>\n",
       "</div>"
      ],
      "text/plain": [
       "           GPA  Tutoring  ParentalSupport\n",
       "mean  2.108325       1.0         2.120666\n",
       "std   0.905202       0.0         1.117103\n",
       "max   4.000000       1.0         4.000000"
      ]
     },
     "execution_count": 45,
     "metadata": {},
     "output_type": "execute_result"
    }
   ],
   "source": [
    "maj_tutor_df = stud_perf_df[stud_perf_df['Tutoring']>=.76]\n",
    "nomaj_tutor_df = stud_perf_df[stud_perf_df['Tutoring'] <.76]\n",
    "maj_tutor_df[['GPA','Tutoring','ParentalSupport']].aggregate(['mean','std','max'])\n",
    "#print(nomaj_tutor_df['GPA'].describe())"
   ]
  },
  {
   "cell_type": "code",
   "execution_count": 44,
   "metadata": {},
   "outputs": [
    {
     "data": {
      "text/html": [
       "<div>\n",
       "<style scoped>\n",
       "    .dataframe tbody tr th:only-of-type {\n",
       "        vertical-align: middle;\n",
       "    }\n",
       "\n",
       "    .dataframe tbody tr th {\n",
       "        vertical-align: top;\n",
       "    }\n",
       "\n",
       "    .dataframe thead th {\n",
       "        text-align: right;\n",
       "    }\n",
       "</style>\n",
       "<table border=\"1\" class=\"dataframe\">\n",
       "  <thead>\n",
       "    <tr style=\"text-align: right;\">\n",
       "      <th></th>\n",
       "      <th>GPA</th>\n",
       "      <th>Tutoring</th>\n",
       "      <th>ParentalSupport</th>\n",
       "    </tr>\n",
       "  </thead>\n",
       "  <tbody>\n",
       "    <tr>\n",
       "      <th>max</th>\n",
       "      <td>4.000000</td>\n",
       "      <td>1.000000</td>\n",
       "      <td>4.000000</td>\n",
       "    </tr>\n",
       "    <tr>\n",
       "      <th>min</th>\n",
       "      <td>0.000000</td>\n",
       "      <td>0.000000</td>\n",
       "      <td>0.000000</td>\n",
       "    </tr>\n",
       "    <tr>\n",
       "      <th>mean</th>\n",
       "      <td>1.906186</td>\n",
       "      <td>0.301421</td>\n",
       "      <td>2.122074</td>\n",
       "    </tr>\n",
       "  </tbody>\n",
       "</table>\n",
       "</div>"
      ],
      "text/plain": [
       "           GPA  Tutoring  ParentalSupport\n",
       "max   4.000000  1.000000         4.000000\n",
       "min   0.000000  0.000000         0.000000\n",
       "mean  1.906186  0.301421         2.122074"
      ]
     },
     "execution_count": 44,
     "metadata": {},
     "output_type": "execute_result"
    }
   ],
   "source": [
    "stud_perf_df[['GPA','Tutoring','ParentalSupport']].agg(['max','min','mean'])"
   ]
  },
  {
   "cell_type": "code",
   "execution_count": 35,
   "metadata": {},
   "outputs": [
    {
     "data": {
      "text/plain": [
       "Text(0, 0.5, 'Number of Students')"
      ]
     },
     "execution_count": 35,
     "metadata": {},
     "output_type": "execute_result"
    },
    {
     "data": {
      "image/png": "[encoded data removed]",
      "text/plain": [
       "<Figure size 640x480 with 1 Axes>"
      ]
     },
     "metadata": {},
     "output_type": "display_data"
    }
   ],
   "source": [
    "gpa_vc = stud_perf_df['GPA'].value_counts(bins=8)\n",
    "gpa_vc.sort_index(ascending=True, inplace=True)\n",
    "gpa_vc.plot(kind='bar', rot=45)\n",
    "plt.xlabel('GPA Scores')\n",
    "plt.ylabel('Number of Students')"
   ]
  },
  {
   "cell_type": "code",
   "execution_count": null,
   "metadata": {},
   "outputs": [],
   "source": [
    "sev_abs_df.agg('mean').plot(figsize=(10,10)).set_xlabel([])\n",
    "notsev_abs_df.agg('mean').plot(figsize=(10,10)).set_xlabel([])\n",
    "plt.tight_layout()\n",
    "plt.xticks(range(len(sev_abs_df.agg('mean')+1)))\n",
    "plt.xlabel([\"%s\" % item for item in sev_abs_df.agg('mean').index],rotation=45)\n",
    "plt.legend(['Absences over 23','Absences under 23'])\n",
    "\n",
    "sev_abs_df.agg('mean')"
   ]
  },
  {
   "cell_type": "code",
   "execution_count": null,
   "metadata": {},
   "outputs": [],
   "source": [
    "stud_df['GPA'].mean()-stud_df['GPA'].std()\n",
    "midgpa_df = stud_df['GPA'].mask((stud_df['GPA']>.99) | (stud_df['GPA']<2.82))\n",
    "lowestgpa_df = stud_df[stud_df['GPA']<=.99]\n",
    "midgpa_df.head()"
   ]
  }
 ],
 "metadata": {
  "kernelspec": {
   "display_name": "base",
   "language": "python",
   "name": "python3"
  },
  "language_info": {
   "codemirror_mode": {
    "name": "ipython",
    "version": 3
   },
   "file_extension": ".py",
   "mimetype": "text/x-python",
   "name": "python",
   "nbconvert_exporter": "python",
   "pygments_lexer": "ipython3",
   "version": "3.1.undefined"
  }
 },
 "nbformat": 4,
 "nbformat_minor": 2
}
